{
  "nbformat": 4,
  "nbformat_minor": 0,
  "metadata": {
    "colab": {
      "name": "Copy of test-of-random.ipynb",
      "provenance": []
    },
    "kernelspec": {
      "name": "python3",
      "display_name": "Python 3"
    },
    "language_info": {
      "name": "python"
    }
  },
  "cells": [
    {
      "cell_type": "markdown",
      "source": [
        "# Introduction\n",
        "\n",
        "this is my first python script to solve my own math problem. How random works"
      ],
      "metadata": {
        "id": "d0SOLQch-taE"
      }
    },
    {
      "cell_type": "code",
      "execution_count": null,
      "metadata": {
        "colab": {
          "base_uri": "https://localhost:8080/"
        },
        "id": "tmnkYvG7-iPO",
        "outputId": "625de003-f3e0-4cb9-ae46-9019c2d2a330"
      },
      "outputs": [
        {
          "output_type": "stream",
          "name": "stdout",
          "text": [
            "[0, 0, 0, 1, 0, 0]\n",
            "The biggest difference with 1 randoms is 100.0%\n",
            "\n",
            "[1, 1, 2, 4, 0, 2]\n",
            "The biggest difference with 10 randoms is 100.0%\n",
            "\n",
            "[13, 8, 24, 15, 24, 16]\n",
            "The biggest difference with 100 randoms is 66.67%\n",
            "\n",
            "[164, 174, 169, 147, 179, 167]\n",
            "The biggest difference with 1000 randoms is 17.88%\n",
            "\n",
            "[1653, 1690, 1731, 1671, 1680, 1575]\n",
            "The biggest difference with 10000 randoms is 9.01%\n",
            "\n",
            "[16793, 16654, 16461, 16635, 16750, 16707]\n",
            "The biggest difference with 100000 randoms is 1.98%\n",
            "\n",
            "[166018, 166725, 166682, 166775, 167237, 166563]\n",
            "The biggest difference with 1000000 randoms is 0.73%\n",
            "\n"
          ]
        }
      ],
      "source": [
        "import random\n",
        "list1 = [0,0,0,0,0,0]\n",
        "t1 = 0\n",
        "limit = 1\n",
        "while t1 < 7:\n",
        " \n",
        "  t=0\n",
        "  while t != limit:\n",
        "    x = random.randint(1,6)\n",
        "    list1[x-1] = list1[x-1] + 1\n",
        "    t = t+1\n",
        "  print(list1)\n",
        " \n",
        "  big = max(list1)\n",
        "  small = min(list1)\n",
        "  diff = big-small\n",
        "  perc = diff/big*100\n",
        "  perc = float(f'{perc:.2f}')\n",
        " \n",
        "  print (\"The biggest difference with \" + str(limit) + \" randoms is \" + str(perc) + \"%\\n\")\n",
        "\n",
        " \n",
        "  list1 = [0,0,0,0,0,0]\n",
        "  limit = limit*10  \n",
        "  t1 = t1+1"
      ]
    }
  ]
}